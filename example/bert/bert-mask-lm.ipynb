{
 "cells": [
  {
   "cell_type": "markdown",
   "metadata": {},
   "source": [
    "# BERT For Maked Language Model"
   ]
  },
  {
   "cell_type": "code",
   "execution_count": 22,
   "metadata": {},
   "outputs": [
    {
     "ename": "ERROR",
     "evalue": "repl.go:3:1: undefined identifier: ls",
     "output_type": "error",
     "traceback": [
      "repl.go:3:1: undefined identifier: ls"
     ]
    }
   ],
   "source": [
    "// Download resources\n",
    "// config file\n",
    "//$wget \"https://s3.amazonaws.com/models.huggingface.co/bert/bert-base-uncased-config.json\"\n",
    "// weights\n",
    "//$wget -O \"bert-base-uncased.gt\" \"bert-base-uncased-model.gt\" \"https://cdn.huggingface.co/bert-base-uncased-rust_model.ot\""
   ]
  },
  {
   "cell_type": "code",
   "execution_count": 36,
   "metadata": {},
   "outputs": [],
   "source": [
    "import(\n",
    "    \"fmt\"\n",
    "    \n",
    "    ts \"github.com/sugarme/gotch/tensor\"\n",
    "    \"github.com/sugarme/gotch/nn\"\n",
    "    \"github.com/sugarme/gotch\"\n",
    "    \"github.com/sugarme/tokenizer\"\n",
    "    \"github.com/sugarme/tokenizer/pretrained\"\n",
    "    \"github.com/sugarme/transformer\"\n",
    "    \"github.com/sugarme/transformer/bert\"\n",
    ")"
   ]
  },
  {
   "cell_type": "code",
   "execution_count": 12,
   "metadata": {},
   "outputs": [],
   "source": [
    "// load pretrained bert-base-uncased tokenizer\n",
    "tk := pretrained.BertBaseUncased()"
   ]
  },
  {
   "cell_type": "code",
   "execution_count": 33,
   "metadata": {},
   "outputs": [],
   "source": [
    "device := gotch.CPU\n",
    "vs := nn.NewVarStore(device)\n",
    "// load BERT config\n",
    "config, err := bert.ConfigFromFile(\"/home/sugarme/projects/transformer/data/bert/bert-base-uncased-config.json\")\n",
    "if err != nil{\n",
    "    fmt.Print(err)\n",
    "}\n",
    "model := bert.NewBertForMaskedLM(vs.Root(), config)\n",
    "// load weights for BERT masked language model\n",
    "err := vs.Load(\"/home/sugarme/projects/transformer/data/bert/model.ot\")\n",
    "if err != nil{\n",
    "    fmt.Print(err)\n",
    "}"
   ]
  },
  {
   "cell_type": "code",
   "execution_count": 56,
   "metadata": {},
   "outputs": [
    {
     "name": "stdout",
     "output_type": "stream",
     "text": [
      "Input: It was a very nice and [MASK] day. - Output: sunny\n"
     ]
    },
    {
     "data": {
      "text/plain": [
       "58 <nil>"
      ]
     },
     "execution_count": 56,
     "metadata": {},
     "output_type": "execute_result"
    }
   ],
   "source": [
    "// Input sample\n",
    "sentence := \"It was a very nice and [MASK] day.\"\n",
    "// Encode the input\n",
    "enc, err := tk.EncodeSingle(sentence, true)\n",
    "if err != nil{fmt.Print(err)}\n",
    "var tokInput []int64\n",
    "for _, id := range enc.Ids{\n",
    "    tokInput = append(tokInput, int64(id))\n",
    "}\n",
    "// Create input tensors from token Ids\n",
    "// NOTE: BERT model is designed to take multiple samples.\n",
    "tokTensors := []ts.Tensor{*ts.TensorFrom(tokInput)} \n",
    "inputTs, err := ts.Stack(tokTensors, 0)\n",
    "if err != nil{fmt.Print(err)}\n",
    "input, err := inputTs.To(device, true)\n",
    "if err != nil { fmt.Print(err) }\n",
    "\n",
    "// Forward through the model\n",
    "var output *ts.Tensor\n",
    "ts.NoGrad(func(){\n",
    "    output, _, _ = model.ForwardT(input, ts.None, ts.None, ts.None, ts.None, ts.None, ts.None, false)\n",
    "})\n",
    "\n",
    "// Get first sample\n",
    "output1, err := output.Get(0)\n",
    "if err != nil{fmt.Print(err)}\n",
    "// Get p-values for [MASK] token\n",
    "values, err := output1.Get(7)\n",
    "if err != nil{ fmt.Print(err) }\n",
    "// Get the best value\n",
    "am, err := values.Argmax([]int64{0}, false, false)\n",
    "if err != nil{ fmt.Print(err) }\n",
    "id := am.Int64Values()[0]\n",
    "// Lookup token from vocab\n",
    "if word, ok := tk.IdToToken(int(id)); !ok { fmt.Printf(\"Token not found for input Id: %v\\n\", id)}\n",
    "\n",
    "fmt.Printf(\"Input: %v - Output: %v\\n\", sentence, word)"
   ]
  },
  {
   "cell_type": "code",
   "execution_count": null,
   "metadata": {},
   "outputs": [],
   "source": []
  }
 ],
 "metadata": {
  "kernelspec": {
   "display_name": "Go",
   "language": "go",
   "name": "gophernotes"
  },
  "language_info": {
   "codemirror_mode": "",
   "file_extension": ".go",
   "mimetype": "",
   "name": "go",
   "nbconvert_exporter": "",
   "pygments_lexer": "",
   "version": "go1.14.3"
  }
 },
 "nbformat": 4,
 "nbformat_minor": 4
}
